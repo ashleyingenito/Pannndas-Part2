{
 "cells": [
  {
   "cell_type": "markdown",
   "metadata": {},
   "source": [
    "# Review of last week's exercises\n",
    "\n",
    "### Starting with number 5\n",
    "\n",
    "Last week I told you to:\n",
    "\n",
    ">Calculate, for each order number, how much the order costs. \n",
    ">\n",
    ">In other words, you're going to iterate through the DataFrame and, for each order number, add up the `item_price * quantity` for each item in the order. \n",
    ">\n",
    ">Store the order prices in a list. Then, tell me how much the 100th, 500th, and 1000th order cost. \n",
    "\n",
    "There are a bunch of ways to do this. Here's one:"
   ]
  },
  {
   "cell_type": "code",
   "execution_count": null,
   "metadata": {},
   "outputs": [],
   "source": [
    "# import pandas\n",
    "import pandas as pd\n",
    "# read in chipotle data\n",
    "chip = pd.read_csv(\"chipotle.tsv\", sep='\\t')"
   ]
  },
  {
   "cell_type": "code",
   "execution_count": null,
   "metadata": {},
   "outputs": [],
   "source": [
    "# make a new DataFrame so we can keep our original data safe\n",
    "newchip = chip\n",
    "\n",
    "# make a new column that contains the total item price of `quantity * item_price`\n",
    "newchip['total_item_price'] = newchip['quantity'] * newchip['item_price']\n",
    "\n",
    "# groupby the order id and sum up the total item prices\n",
    "newchip = newchip.groupby(\"order_id\").sum()['total_item_price']\n",
    "\n",
    "# display the 100th, 500th, and 1000th items\n",
    "print(newchip[[100,500,1000]])"
   ]
  },
  {
   "cell_type": "markdown",
   "metadata": {},
   "source": [
    "# Okay cool but what the **heck** was _Exercise 6_?\n",
    "\n",
    "This is what it said:\n",
    "\n",
    ">Using a filter function, drop every row where only one item was ordered. In other words, if `quantity > 1`, keep the row. If not, drop the row. \n",
    ">\n",
    ">Then, print the first ten items in the new DataFrame.\n",
    ">\n",
    ">Hint: this is very similar to the filter we wrote when dealing with community center attendance.\n",
    "\n",
    "So... what was this asking for?\n",
    "\n",
    "There are lots of entries `chip` where a single item was ordered. This question wants us to remove the rows where only _one_ of an item was ordered. \n",
    "\n",
    "The hint was **not** meant to say that you _need_ to use a filter function, though you absolutely can. It was just meant to remind you that we have done something similar to this before.\n",
    "\n",
    "Let's move on to some different ways to solve this."
   ]
  },
  {
   "cell_type": "markdown",
   "metadata": {},
   "source": [
    "## Method 1!\n",
    "\n",
    "Though you didn't _have_ to use a filter, this is one way that you can. "
   ]
  },
  {
   "cell_type": "code",
   "execution_count": null,
   "metadata": {},
   "outputs": [],
   "source": [
    "# define the filter function\n",
    "# return true only for items that have above the lower bound of orders\n",
    "def filter_func(df, lower_bound):\n",
    "    return df['quantity'] > lower_bound\n",
    "\n",
    "# groupy + filter\n",
    "# remember how you got the columns with chip.columns? we can do the same with the rows\n",
    "# since we want to look at each ROW, we group it by the INDEX\n",
    "# this way, each row will be analyzed on its own\n",
    "new_chip = chip.groupby(chip.index).filter(filter_func, lower_bound=1)\n",
    "\n",
    "# display the first ten\n",
    "new_chip.head(10)"
   ]
  },
  {
   "cell_type": "markdown",
   "metadata": {},
   "source": [
    "---\n",
    "## Method 2!\n",
    "\n",
    "If you don't wanna use a filter for this, that makes sense! In fact, it's _easier_ without a filter.\n",
    "\n",
    "Remember how we can index values in a DataFram by using a list? Well, we can extend that idea to a _boolean series_."
   ]
  },
  {
   "cell_type": "code",
   "execution_count": null,
   "metadata": {},
   "outputs": [],
   "source": [
    "# get a list where each row is True if and only if the quantity is greater than 1\n",
    "(chip['quantity'] > 1)[:20]"
   ]
  },
  {
   "cell_type": "code",
   "execution_count": null,
   "metadata": {},
   "outputs": [],
   "source": [
    "# if we .loc using this boolean series, we get only the rows we want!\n",
    "big_orders = chip.loc[chip['quantity'] > 1]\n",
    "\n",
    "# you can cross-reference these indices with the list above. Look at 4 and 18!\n",
    "big_orders.head(10)"
   ]
  },
  {
   "cell_type": "markdown",
   "metadata": {},
   "source": [
    "---"
   ]
  },
  {
   "cell_type": "markdown",
   "metadata": {},
   "source": [
    "# Alright, how about Exercise 7?"
   ]
  },
  {
   "cell_type": "markdown",
   "metadata": {},
   "source": [
    "It said:\n",
    "\n",
    ">Make a new dictionary. Then, iterate through the DataFrame. For each item_name, do the following:\n",
    ">\n",
    ">* if dict[item_name] exists, add quantity to it;\n",
    ">* if not, set dict[item_name] to quantity;\n",
    ">\n",
    ">You're essentially counting the number of times that a given item has been ordered.\n",
    "\n",
    "Okay, let's go step by step. First, we need to make a dictionary"
   ]
  },
  {
   "cell_type": "code",
   "execution_count": null,
   "metadata": {},
   "outputs": [],
   "source": [
    "# make the dictionary\n",
    "chip_dict = dict()"
   ]
  },
  {
   "cell_type": "markdown",
   "metadata": {},
   "source": [
    "You could also do `chip_dict = {}`, but it's up to personal preference.\n",
    "\n",
    "Next, we need to iterate through our `chip` DataFrame. Our first instinct might be to do something like this:"
   ]
  },
  {
   "cell_type": "code",
   "execution_count": null,
   "metadata": {},
   "outputs": [],
   "source": [
    "for entry in chip:\n",
    "    print(entry)"
   ]
  },
  {
   "cell_type": "markdown",
   "metadata": {},
   "source": [
    "As we can see, that gives us the columns. But, what we really want is each row since we have to pull out item information from each one. So, let's change our appraoch:"
   ]
  },
  {
   "cell_type": "code",
   "execution_count": null,
   "metadata": {},
   "outputs": [],
   "source": [
    "for i in range(len(chip)):\n",
    "    # do stuff\n",
    "    pass"
   ]
  },
  {
   "cell_type": "markdown",
   "metadata": {},
   "source": [
    "`len(chip)` returns the number of rows in the DataFrame\n",
    "\n",
    "`for i in range(len(chip))` iterates from 0 to the length of chip\n",
    "\n",
    "Now, remember how we were supposed to populate the dict? If it's there, add the quantity to it. Otherwise, set the item entry to the quantity. \n",
    "Let's put it all together:"
   ]
  },
  {
   "cell_type": "code",
   "execution_count": null,
   "metadata": {},
   "outputs": [],
   "source": [
    "# make dictionary\n",
    "chip_dict = dict()\n",
    "\n",
    "# iterate through the dataframe\n",
    "for i in range(len(chip)):\n",
    "    # get the item name and quantity\n",
    "    item = chip.loc[i, 'item_name']\n",
    "    num = chip.loc[i, 'quantity']\n",
    "    \n",
    "    if item in chip_dict: # if it's in the dict\n",
    "        chip_dict[item] += num # add the quantity to it\n",
    "    else:\n",
    "        chip_dict[item] = num # otherwise, set it to the quantity\n",
    "\n",
    "chip_dict"
   ]
  }
 ],
 "metadata": {
  "kernelspec": {
   "display_name": "Python 3.7",
   "language": "python",
   "name": "python3"
  },
  "language_info": {
   "codemirror_mode": {
    "name": "ipython",
    "version": 3
   },
   "file_extension": ".py",
   "mimetype": "text/x-python",
   "name": "python",
   "nbconvert_exporter": "python",
   "pygments_lexer": "ipython3",
   "version": "3.7.0"
  }
 },
 "nbformat": 4,
 "nbformat_minor": 2
}
